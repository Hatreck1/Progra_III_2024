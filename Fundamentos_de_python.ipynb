{
  "nbformat": 4,
  "nbformat_minor": 0,
  "metadata": {
    "colab": {
      "provenance": [],
      "authorship_tag": "ABX9TyOlbjINQnIIfGil84NYuUZz",
      "include_colab_link": true
    },
    "kernelspec": {
      "name": "python3",
      "display_name": "Python 3"
    },
    "language_info": {
      "name": "python"
    }
  },
  "cells": [
    {
      "cell_type": "markdown",
      "metadata": {
        "id": "view-in-github",
        "colab_type": "text"
      },
      "source": [
        "<a href=\"https://colab.research.google.com/github/Hatreck1/Progra_III_2024/blob/main/Fundamentos_de_python.ipynb\" target=\"_parent\"><img src=\"https://colab.research.google.com/assets/colab-badge.svg\" alt=\"Open In Colab\"/></a>"
      ]
    },
    {
      "cell_type": "code",
      "execution_count": null,
      "metadata": {
        "id": "G23277y8bMvQ",
        "colab": {
          "base_uri": "https://localhost:8080/"
        },
        "outputId": "dbc1b0d2-a5ec-4e9f-df6b-ff99254d4f49"
      },
      "outputs": [
        {
          "output_type": "stream",
          "name": "stdout",
          "text": [
            "hola mundo\n",
            "hola Gilberto Lizama , inicial:  G t\n"
          ]
        }
      ],
      "source": [
        "print(\"hola mundo\")\n",
        "nombre = \"Gilberto Lizama\"\n",
        "\n",
        "print(\"hola\", nombre, \", inicial: \", nombre[0], nombre[6])\n",
        "\n"
      ]
    },
    {
      "cell_type": "markdown",
      "source": [
        "EJERCICIO, crear un programa en python que sume dos numeros\n"
      ],
      "metadata": {
        "id": "nEFtgeCys5-Y"
      }
    },
    {
      "cell_type": "code",
      "source": [
        "print(\"ingrese el primer numero\")\n",
        "num1 = float(input())\n",
        "\n",
        "print(\"ingrese el segundo numero\")\n",
        "num2 = float(input())\n",
        "\n",
        "resp = num1 + num2\n",
        "print(\"la suma es: \", resp)"
      ],
      "metadata": {
        "colab": {
          "base_uri": "https://localhost:8080/"
        },
        "id": "K_JU70Aus8Wa",
        "outputId": "4f843689-4fb3-45c6-eab2-549a0e2f7705"
      },
      "execution_count": null,
      "outputs": [
        {
          "output_type": "stream",
          "name": "stdout",
          "text": [
            "ingrese el primer numero\n",
            "10\n",
            "ingrese el segundo numero\n",
            "12\n",
            "la suma es:  22.0\n"
          ]
        }
      ]
    },
    {
      "cell_type": "markdown",
      "source": [
        "#tipos de datos"
      ],
      "metadata": {
        "id": "Tg9ayj6y5ff9"
      }
    },
    {
      "cell_type": "code",
      "source": [
        "num1 = 5\n",
        "num2 = 5.9\n",
        "\n",
        "nombre = \"Gilberto Lizama\"\n",
        "print(nombre[0:5], nombre[:5], nombre[-2], nombre[5:len(nombre)])\n",
        "\n",
        "estado = True\n",
        "print(estado)\n",
        "\n",
        "print(type(nombre), type(num1), type(num2), type(estado))"
      ],
      "metadata": {
        "colab": {
          "base_uri": "https://localhost:8080/"
        },
        "id": "K4jML7uB5jaj",
        "outputId": "f047bed4-1c9e-4f0d-8417-8e3136e784ad"
      },
      "execution_count": null,
      "outputs": [
        {
          "output_type": "stream",
          "name": "stdout",
          "text": [
            "Gilbe Gilbe m rto Lizama\n",
            "True\n",
            "<class 'str'> <class 'int'> <class 'float'> <class 'bool'>\n"
          ]
        }
      ]
    },
    {
      "cell_type": "markdown",
      "source": [
        "EJERCICIO, cree un programa en python que lea un numero y determine si es par o impar."
      ],
      "metadata": {
        "id": "yjq9Vmg06JQZ"
      }
    },
    {
      "cell_type": "code",
      "source": [
        "num = int(input(\"ingrese un numero\"))\n",
        "if num % 2 == 0:\n",
        "  print (\"el numero es par\", num)\n",
        "else:\n",
        "  print(\"el numero es impar\", num)\n"
      ],
      "metadata": {
        "colab": {
          "base_uri": "https://localhost:8080/"
        },
        "id": "MQXWYdwc6Oum",
        "outputId": "c5b0ec7c-d484-4c6d-fb52-3e22c1c55751"
      },
      "execution_count": null,
      "outputs": [
        {
          "output_type": "stream",
          "name": "stdout",
          "text": [
            "ingrese un numero3\n",
            "el numero es impar 3\n"
          ]
        }
      ]
    },
    {
      "cell_type": "markdown",
      "source": [
        "Conversor de Fahrenheit a Celsius"
      ],
      "metadata": {
        "id": "mODGRpz1HwfS"
      }
    },
    {
      "cell_type": "code",
      "source": [
        "def fahrenheit_a_celsius(fahrenheit):\n",
        "    celsius = (fahrenheit - 32) * 5.0/9.0\n",
        "    return celsius\n",
        "fahrenheit = float(input(\"Introduce la temperatura en Fahrenheit: \"))\n",
        "celsius = fahrenheit_a_celsius(fahrenheit)\n",
        "print(f\"{fahrenheit} grados Fahrenheit son {celsius:.2f} grados Celsius.\")"
      ],
      "metadata": {
        "colab": {
          "base_uri": "https://localhost:8080/"
        },
        "id": "OfYRGSWCICzZ",
        "outputId": "d0984abe-60bc-4c74-fedb-21ec784b39d4"
      },
      "execution_count": 1,
      "outputs": [
        {
          "output_type": "stream",
          "name": "stdout",
          "text": [
            "Introduce la temperatura en Fahrenheit: 100.5\n",
            "100.5 grados Fahrenheit son 38.06 grados Celsius.\n"
          ]
        }
      ]
    },
    {
      "cell_type": "markdown",
      "source": [
        "Conversor [Fahrenheit y Celcius] a kelvin"
      ],
      "metadata": {
        "id": "Ak9M3VdzIIMo"
      }
    },
    {
      "cell_type": "code",
      "source": [
        "def fahrenheit_a_kelvin(fahrenheit):\n",
        "    kelvin = (fahrenheit - 32) * 5.0/9.0 + 273.15\n",
        "    return kelvin\n",
        "\n",
        "def celsius_a_kelvin(celsius):\n",
        "    kelvin = celsius + 273.15\n",
        "    return kelvin\n",
        "\n",
        "escala = input(\"Introduce la escala de la temperatura (F para Fahrenheit, C para Celsius): \").strip().upper()\n",
        "temperatura = float(input(f\"Introduce la temperatura en {escala}: \"))\n",
        "\n",
        "if escala == 'F':\n",
        "    kelvin = fahrenheit_a_kelvin(temperatura)\n",
        "elif escala == 'C':\n",
        "    kelvin = celsius_a_kelvin(temperatura)\n",
        "else:\n",
        "    print(\"Escala no válida.\")\n",
        "    kelvin = None\n",
        "\n",
        "if kelvin is not None:\n",
        " print(f\"La temperatura en Kelvin es: {kelvin:.2f} K.\")"
      ],
      "metadata": {
        "colab": {
          "base_uri": "https://localhost:8080/"
        },
        "id": "YqPPrkDXIKxx",
        "outputId": "54b95a17-ceda-4b06-eb25-b4fe565f29c3"
      },
      "execution_count": 2,
      "outputs": [
        {
          "output_type": "stream",
          "name": "stdout",
          "text": [
            "Introduce la escala de la temperatura (F para Fahrenheit, C para Celsius): f\n",
            "Introduce la temperatura en F: 100.4\n",
            "La temperatura en Kelvin es: 311.15 K.\n"
          ]
        }
      ]
    },
    {
      "cell_type": "markdown",
      "source": [
        "EJERCICIO: elevar un numero al cuadrado"
      ],
      "metadata": {
        "id": "GR7dlIREITY1"
      }
    },
    {
      "cell_type": "code",
      "source": [
        "def elevarCuadrado(base=0,exponente=2):\n",
        "  return base**exponente"
      ],
      "metadata": {
        "id": "PMq_FyZTIT7g"
      },
      "execution_count": null,
      "outputs": []
    },
    {
      "cell_type": "code",
      "source": [
        "num = int(input(\"num: \"))\n",
        "print(\"cuadrado \", elevarCuadrado(num, 3))"
      ],
      "metadata": {
        "id": "qr4JFcm6IWfI"
      },
      "execution_count": null,
      "outputs": []
    },
    {
      "cell_type": "markdown",
      "source": [
        "USANDO FUNCIONES LAMBDA"
      ],
      "metadata": {
        "id": "cNIGxownIaOv"
      }
    },
    {
      "cell_type": "code",
      "source": [
        "elevarCuadradoLambda = lambda base, exponente: base**exponente"
      ],
      "metadata": {
        "id": "qSiOnQYtIc8w"
      },
      "execution_count": null,
      "outputs": []
    },
    {
      "cell_type": "code",
      "source": [
        "valor = int(input(\"num: \"))\n",
        "print(\"cuadrado: \", elevarCuadradoLambda(valor, 2))"
      ],
      "metadata": {
        "id": "4bNpoIlFIfP_"
      },
      "execution_count": null,
      "outputs": []
    },
    {
      "cell_type": "code",
      "source": [
        "serie = (5,4,3,2,6,7)\n",
        "resp = map(lambda x: x**2, serie)\n",
        "print(list(resp))\n",
        "\n",
        "resp2 = map(elevarCuadrado, serie)\n",
        "print(list(resp2))"
      ],
      "metadata": {
        "id": "bR0dswWlIkE3"
      },
      "execution_count": null,
      "outputs": []
    },
    {
      "cell_type": "markdown",
      "source": [
        "EJERCICIO: obtener la raiz cuadrada de una serie de numeros fijos"
      ],
      "metadata": {
        "id": "wLh8dvaKIm3n"
      }
    },
    {
      "cell_type": "code",
      "source": [
        "def raizCuadrada(base,exponente=0.5):\n",
        "  return base**exponente\n",
        "\n",
        "serie = (5,4,3,2,6,7,25)\n",
        "resp = map(raizCuadrada, serie)\n",
        "print(list(resp))"
      ],
      "metadata": {
        "colab": {
          "base_uri": "https://localhost:8080/"
        },
        "id": "FmU4zgkCInsX",
        "outputId": "9dce9233-43c5-4641-9f0d-4288170b679b"
      },
      "execution_count": 3,
      "outputs": [
        {
          "output_type": "stream",
          "name": "stdout",
          "text": [
            "[2.23606797749979, 2.0, 1.7320508075688772, 1.4142135623730951, 2.449489742783178, 2.6457513110645907, 5.0]\n"
          ]
        }
      ]
    }
  ]
}