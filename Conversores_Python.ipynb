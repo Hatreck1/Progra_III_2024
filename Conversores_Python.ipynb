{
  "nbformat": 4,
  "nbformat_minor": 0,
  "metadata": {
    "colab": {
      "provenance": [],
      "authorship_tag": "ABX9TyPHvV9TxU6jPhqPQHE+b8zU",
      "include_colab_link": true
    },
    "kernelspec": {
      "name": "python3",
      "display_name": "Python 3"
    },
    "language_info": {
      "name": "python"
    }
  },
  "cells": [
    {
      "cell_type": "markdown",
      "metadata": {
        "id": "view-in-github",
        "colab_type": "text"
      },
      "source": [
        "<a href=\"https://colab.research.google.com/github/Hatreck1/Progra_III_2024/blob/TareaConversores/Conversores_Python.ipynb\" target=\"_parent\"><img src=\"https://colab.research.google.com/assets/colab-badge.svg\" alt=\"Open In Colab\"/></a>"
      ]
    },
    {
      "cell_type": "markdown",
      "source": [
        "Conversor de Fahrenheit a Celsius"
      ],
      "metadata": {
        "id": "lbIibKzdDSJf"
      }
    },
    {
      "cell_type": "code",
      "execution_count": 4,
      "metadata": {
        "colab": {
          "base_uri": "https://localhost:8080/"
        },
        "id": "3Qa-jtAbC9a9",
        "outputId": "5b3cdd47-b2d5-41b4-af9b-4a9809e6cb94"
      },
      "outputs": [
        {
          "output_type": "stream",
          "name": "stdout",
          "text": [
            "Introduce la temperatura en Fahrenheit: 100.4\n",
            "100.4 grados Fahrenheit son 38.00 grados Celsius.\n"
          ]
        }
      ],
      "source": [
        "def fahrenheit_a_celsius(fahrenheit):\n",
        "    celsius = (fahrenheit - 32) * 5.0/9.0\n",
        "    return celsius\n",
        "fahrenheit = float(input(\"Introduce la temperatura en Fahrenheit: \"))\n",
        "celsius = fahrenheit_a_celsius(fahrenheit)\n",
        "print(f\"{fahrenheit} grados Fahrenheit son {celsius:.2f} grados Celsius.\")"
      ]
    },
    {
      "cell_type": "markdown",
      "source": [
        "Conversor [Fahrenheit y Celcius] a kelvin"
      ],
      "metadata": {
        "id": "aHH0_iniEZQv"
      }
    },
    {
      "cell_type": "code",
      "source": [
        "def fahrenheit_a_kelvin(fahrenheit):\n",
        "    kelvin = (fahrenheit - 32) * 5.0/9.0 + 273.15\n",
        "    return kelvin\n",
        "\n",
        "def celsius_a_kelvin(celsius):\n",
        "    kelvin = celsius + 273.15\n",
        "    return kelvin\n",
        "\n",
        "escala = input(\"Introduce la escala de la temperatura (F para Fahrenheit, C para Celsius): \").strip().upper()\n",
        "temperatura = float(input(f\"Introduce la temperatura en {escala}: \"))\n",
        "\n",
        "if escala == 'F':\n",
        "    kelvin = fahrenheit_a_kelvin(temperatura)\n",
        "elif escala == 'C':\n",
        "    kelvin = celsius_a_kelvin(temperatura)\n",
        "else:\n",
        "    print(\"Escala no válida.\")\n",
        "    kelvin = None\n",
        "\n",
        "if kelvin is not None:\n",
        " print(f\"La temperatura en Kelvin es: {kelvin:.2f} K.\")"
      ],
      "metadata": {
        "colab": {
          "base_uri": "https://localhost:8080/"
        },
        "id": "v9eRxZHAEsKi",
        "outputId": "6e9ed90f-513c-4d6b-ce14-80b5f2a46cb3"
      },
      "execution_count": 9,
      "outputs": [
        {
          "output_type": "stream",
          "name": "stdout",
          "text": [
            "Introduce la escala de la temperatura (F para Fahrenheit, C para Celsius): c\n",
            "Introduce la temperatura en C: 39\n",
            "La temperatura en Kelvin es: 312.15 K.\n"
          ]
        }
      ]
    }
  ]
}