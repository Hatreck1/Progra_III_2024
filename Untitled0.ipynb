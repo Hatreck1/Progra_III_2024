{
  "nbformat": 4,
  "nbformat_minor": 0,
  "metadata": {
    "colab": {
      "provenance": [],
      "authorship_tag": "ABX9TyN38LmFUHKhV5186YtTWOoz",
      "include_colab_link": true
    },
    "kernelspec": {
      "name": "python3",
      "display_name": "Python 3"
    },
    "language_info": {
      "name": "python"
    }
  },
  "cells": [
    {
      "cell_type": "markdown",
      "metadata": {
        "id": "view-in-github",
        "colab_type": "text"
      },
      "source": [
        "<a href=\"https://colab.research.google.com/github/Hatreck1/Progra_III_2024/blob/main/Untitled0.ipynb\" target=\"_parent\"><img src=\"https://colab.research.google.com/assets/colab-badge.svg\" alt=\"Open In Colab\"/></a>"
      ]
    },
    {
      "cell_type": "code",
      "execution_count": 3,
      "metadata": {
        "id": "G23277y8bMvQ",
        "colab": {
          "base_uri": "https://localhost:8080/"
        },
        "outputId": "dbc1b0d2-a5ec-4e9f-df6b-ff99254d4f49"
      },
      "outputs": [
        {
          "output_type": "stream",
          "name": "stdout",
          "text": [
            "hola mundo\n",
            "hola Gilberto Lizama , inicial:  G t\n"
          ]
        }
      ],
      "source": [
        "print(\"hola mundo\")\n",
        "nombre = \"Gilberto Lizama\"\n",
        "\n",
        "print(\"hola\", nombre, \", inicial: \", nombre[0], nombre[6])\n",
        "\n"
      ]
    },
    {
      "cell_type": "markdown",
      "source": [
        "EJERCICIO, crear un programa en python que sume dos numeros\n"
      ],
      "metadata": {
        "id": "nEFtgeCys5-Y"
      }
    },
    {
      "cell_type": "code",
      "source": [
        "print(\"ingrese el primer numero\")\n",
        "num1 = float(input())\n",
        "\n",
        "print(\"ingrese el segundo numero\")\n",
        "num2 = float(input())\n",
        "\n",
        "resp = num1 + num2\n",
        "print(\"la suma es: \", resp)"
      ],
      "metadata": {
        "colab": {
          "base_uri": "https://localhost:8080/"
        },
        "id": "K_JU70Aus8Wa",
        "outputId": "4f843689-4fb3-45c6-eab2-549a0e2f7705"
      },
      "execution_count": 5,
      "outputs": [
        {
          "output_type": "stream",
          "name": "stdout",
          "text": [
            "ingrese el primer numero\n",
            "10\n",
            "ingrese el segundo numero\n",
            "12\n",
            "la suma es:  22.0\n"
          ]
        }
      ]
    },
    {
      "cell_type": "markdown",
      "source": [
        "#tipos de datos"
      ],
      "metadata": {
        "id": "Tg9ayj6y5ff9"
      }
    },
    {
      "cell_type": "code",
      "source": [
        "num1 = 5\n",
        "num2 = 5.9\n",
        "\n",
        "nombre = \"Gilberto Lizama\"\n",
        "print(nombre[0:5], nombre[:5], nombre[-2], nombre[5:len(nombre)])\n",
        "\n",
        "estado = True\n",
        "print(estado)\n",
        "\n",
        "print(type(nombre), type(num1), type(num2), type(estado))"
      ],
      "metadata": {
        "colab": {
          "base_uri": "https://localhost:8080/"
        },
        "id": "K4jML7uB5jaj",
        "outputId": "f047bed4-1c9e-4f0d-8417-8e3136e784ad"
      },
      "execution_count": 6,
      "outputs": [
        {
          "output_type": "stream",
          "name": "stdout",
          "text": [
            "Gilbe Gilbe m rto Lizama\n",
            "True\n",
            "<class 'str'> <class 'int'> <class 'float'> <class 'bool'>\n"
          ]
        }
      ]
    },
    {
      "cell_type": "markdown",
      "source": [
        "EJERCICIO, cree un programa en python que lea un numero y determine si es par o impar."
      ],
      "metadata": {
        "id": "yjq9Vmg06JQZ"
      }
    },
    {
      "cell_type": "code",
      "source": [
        "num = int(input(\"ingrese un numero\"))\n",
        "if num % 2 == 0:\n",
        "  print (\"el numero es par\", num)\n",
        "else:\n",
        "  print(\"el numero es impar\", num)\n"
      ],
      "metadata": {
        "colab": {
          "base_uri": "https://localhost:8080/"
        },
        "id": "MQXWYdwc6Oum",
        "outputId": "c5b0ec7c-d484-4c6d-fb52-3e22c1c55751"
      },
      "execution_count": 14,
      "outputs": [
        {
          "output_type": "stream",
          "name": "stdout",
          "text": [
            "ingrese un numero3\n",
            "el numero es impar 3\n"
          ]
        }
      ]
    }
  ]
}